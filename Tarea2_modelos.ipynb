{
 "cells": [
  {
   "cell_type": "markdown",
   "id": "8045f57d",
   "metadata": {},
   "source": [
    "# Tarea 2 - Minería de Datos\n",
    "Este notebook tiene como objetivo comparar el desempeño de dos modelos de clasificación supervisada para predecir la variable `categoria_objetivo` a partir de un conjunto de productos.\n",
    "\n",
    "Modelos evaluados:\n",
    "- Árbol de Decisión (`DecisionTreeClassifier`)\n",
    "- Perceptrón Multicapa (`MLPClassifier`)\n",
    "\n",
    "Se utilizará el dataset `productos.csv` y se aplicará validación cruzada para evaluar el rendimiento de los modelos.\n"
   ]
  },
  {
   "cell_type": "code",
   "execution_count": null,
   "id": "4461ce0d",
   "metadata": {},
   "outputs": [],
   "source": [
    "import pandas as pd\n",
    "import numpy as np\n",
    "import matplotlib.pyplot as plt\n",
    "import seaborn as sns\n",
    "\n",
    "from sklearn.model_selection import train_test_split, GridSearchCV, cross_val_score\n",
    "from sklearn.preprocessing import StandardScaler, OneHotEncoder\n",
    "from sklearn.compose import ColumnTransformer\n",
    "from sklearn.pipeline import Pipeline\n",
    "from sklearn.tree import DecisionTreeClassifier, plot_tree\n",
    "from sklearn.neural_network import MLPClassifier\n",
    "from sklearn.metrics import classification_report, confusion_matrix, ConfusionMatrixDisplay\n",
    "from sklearn.metrics import accuracy_score, f1_score\n",
    "\n",
    "import warnings\n",
    "warnings.filterwarnings(\"ignore\")\n"
   ]
  },
  {
   "cell_type": "markdown",
   "id": "bc1e2ff6",
   "metadata": {},
   "source": [
    "## Carga del dataset"
   ]
  },
  {
   "cell_type": "code",
   "execution_count": null,
   "id": "44a02d86",
   "metadata": {},
   "outputs": [],
   "source": [
    "df = pd.read_csv(\"productos.csv\")\n",
    "df.head()\n"
   ]
  },
  {
   "cell_type": "markdown",
   "id": "be60e04c",
   "metadata": {},
   "source": [
    "## Análisis exploratorio de datos"
   ]
  },
  {
   "cell_type": "code",
   "execution_count": null,
   "id": "2a0089b8",
   "metadata": {},
   "outputs": [],
   "source": [
    "df.info()\n"
   ]
  },
  {
   "cell_type": "code",
   "execution_count": null,
   "id": "c80a829a",
   "metadata": {},
   "outputs": [],
   "source": [
    "df.describe(include=\"all\")\n"
   ]
  },
  {
   "cell_type": "code",
   "execution_count": null,
   "id": "59ee7a40",
   "metadata": {},
   "outputs": [],
   "source": [
    "df['categoria_objetivo'].value_counts().sort_index()\n"
   ]
  },
  {
   "cell_type": "markdown",
   "id": "680c62d2",
   "metadata": {},
   "source": [
    "## Preprocesamiento de datos"
   ]
  },
  {
   "cell_type": "code",
   "execution_count": null,
   "id": "63aaa047",
   "metadata": {},
   "outputs": [],
   "source": [
    "# Variables numéricas y categóricas\n",
    "numericas = ['peso_kg', 'volumen_m3']\n",
    "categoricas = ['tipo_certificacion']\n",
    "\n",
    "X = df[numericas + categoricas]\n",
    "y = df['categoria_objetivo']\n",
    "\n",
    "# Pipeline de preprocesamiento\n",
    "preprocessor = ColumnTransformer(transformers=[\n",
    "    ('num', StandardScaler(), numericas),\n",
    "    ('cat', OneHotEncoder(drop='first'), categoricas)\n",
    "])\n"
   ]
  },
  {
   "cell_type": "markdown",
   "id": "76fda334",
   "metadata": {},
   "source": [
    "## División en conjunto de entrenamiento y prueba"
   ]
  },
  {
   "cell_type": "code",
   "execution_count": null,
   "id": "4d1aa81d",
   "metadata": {},
   "outputs": [],
   "source": [
    "X_train, X_test, y_train, y_test = train_test_split(\n",
    "    X, y, test_size=0.3, random_state=42, stratify=y\n",
    ")\n"
   ]
  },
  {
   "cell_type": "markdown",
   "id": "9272eff4",
   "metadata": {},
   "source": [
    "## Entrenamiento de modelos y comparación"
   ]
  },
  {
   "cell_type": "code",
   "execution_count": null,
   "id": "401a72d7",
   "metadata": {},
   "outputs": [],
   "source": [
    "dt_pipeline = Pipeline(steps=[\n",
    "    ('preprocessor', preprocessor),\n",
    "    ('classifier', DecisionTreeClassifier(random_state=42))\n",
    "])\n",
    "\n",
    "dt_params = {\n",
    "    'classifier__criterion': ['gini', 'entropy'],\n",
    "    'classifier__max_depth': [3, 5, 10, None]\n",
    "}\n",
    "\n",
    "grid_dt = GridSearchCV(dt_pipeline, dt_params, cv=5, scoring='f1_macro')\n",
    "grid_dt.fit(X_train, y_train)\n",
    "\n",
    "print(\"Mejores parámetros Árbol de Decisión:\")\n",
    "print(grid_dt.best_params_)\n"
   ]
  },
  {
   "cell_type": "code",
   "execution_count": null,
   "id": "35daacb4",
   "metadata": {},
   "outputs": [],
   "source": [
    "mlp_pipeline = Pipeline(steps=[\n",
    "    ('preprocessor', preprocessor),\n",
    "    ('classifier', MLPClassifier(max_iter=500, random_state=42))\n",
    "])\n",
    "\n",
    "mlp_params = {\n",
    "    'classifier__hidden_layer_sizes': [(10,), (50,), (50, 30)],\n",
    "    'classifier__learning_rate_init': [0.01, 0.001],\n",
    "    'classifier__alpha': [0.0001, 0.001]\n",
    "}\n",
    "\n",
    "grid_mlp = GridSearchCV(mlp_pipeline, mlp_params, cv=5, scoring='f1_macro')\n",
    "grid_mlp.fit(X_train, y_train)\n",
    "\n",
    "print(\"Mejores parámetros MLP:\")\n",
    "print(grid_mlp.best_params_)\n"
   ]
  },
  {
   "cell_type": "markdown",
   "id": "4d2378fb",
   "metadata": {},
   "source": [
    "## Evaluación en conjunto de prueba"
   ]
  },
  {
   "cell_type": "code",
   "execution_count": null,
   "id": "1c739ba5",
   "metadata": {},
   "outputs": [],
   "source": [
    "models = {\n",
    "    \"Árbol de Decisión\": grid_dt.best_estimator_,\n",
    "    \"MLP\": grid_mlp.best_estimator_\n",
    "}\n",
    "\n",
    "for nombre, modelo in models.items():\n",
    "    y_pred = modelo.predict(X_test)\n",
    "    print(f\"Modelo: {nombre}\")\n",
    "    print(\"Accuracy:\", accuracy_score(y_test, y_pred))\n",
    "    print(\"F1 macro:\", f1_score(y_test, y_pred, average='macro'))\n",
    "    print(\"Reporte de clasificación:\")\n",
    "    print(classification_report(y_test, y_pred))\n",
    "    print(\"-\" * 60)\n"
   ]
  },
  {
   "cell_type": "markdown",
   "id": "9bd85a18",
   "metadata": {},
   "source": [
    "## Matriz de confusión"
   ]
  },
  {
   "cell_type": "code",
   "execution_count": null,
   "id": "558fc975",
   "metadata": {},
   "outputs": [],
   "source": [
    "for nombre, modelo in models.items():\n",
    "    y_pred = modelo.predict(X_test)\n",
    "    cm = confusion_matrix(y_test, y_pred)\n",
    "    disp = ConfusionMatrixDisplay(confusion_matrix=cm)\n",
    "    disp.plot()\n",
    "    plt.title(f\"Matriz de confusión - {nombre}\")\n",
    "    plt.show()\n"
   ]
  },
  {
   "cell_type": "markdown",
   "id": "4784a49f",
   "metadata": {},
   "source": [
    "## Conclusiones\n",
    "\n",
    "Se evaluaron dos modelos de clasificación supervisada. El Árbol de Decisión mostró una mayor interpretabilidad, mientras que el MLP presentó un mejor rendimiento en términos de F1 macro en varios casos. La elección del modelo final dependerá del balance entre rendimiento y capacidad de interpretación requerida para el problema.\n"
   ]
  }
 ],
 "metadata": {},
 "nbformat": 4,
 "nbformat_minor": 5
}